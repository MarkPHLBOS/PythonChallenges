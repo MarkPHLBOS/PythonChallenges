{
 "cells": [
  {
   "cell_type": "code",
   "execution_count": 1,
   "metadata": {},
   "outputs": [],
   "source": [
    "#Practice Python 13 - Fibonacci\n",
    "\n",
    "# Write a program that asks the user how many Fibonnaci numbers\n",
    "# to generate and then generates them. Take this opportunity\n",
    "# to think about how you can use functions. Make sure to ask the user\n",
    "# to enter the number of numbers in the sequence to generate.\n",
    "# (Hint: The Fibonnaci seqence is a sequence of numbers where the next number\n",
    "# in the sequence is the sum of the previous two numbers in the sequence.\n",
    "# The sequence looks like this: 1, 1, 2, 3, 5, 8, 13, …)"
   ]
  },
  {
   "cell_type": "code",
   "execution_count": 48,
   "metadata": {},
   "outputs": [],
   "source": [
    "def fibonacci():\n",
    "    userlength = int(input(\"Give me an integer and I'll make a Fibonacci sequence that long: \"))\n",
    "    i = 1\n",
    "    \n",
    "    if userlength < 1:\n",
    "        fiblist = []\n",
    "    elif userlength == 1:\n",
    "        fiblist = [1]\n",
    "    elif userlength == 2:\n",
    "        fiblist = [1,1]\n",
    "    else:\n",
    "        fiblist = [1,1]\n",
    "        while i < userlength-1:\n",
    "            fiblist.append(fiblist[i] + fiblist[i-1])\n",
    "            i += 1\n",
    "    return fiblist"
   ]
  },
  {
   "cell_type": "code",
   "execution_count": 52,
   "metadata": {},
   "outputs": [
    {
     "name": "stdout",
     "output_type": "stream",
     "text": [
      "Give me an integer and I'll make a Fibonacci sequence that long: 8\n"
     ]
    },
    {
     "data": {
      "text/plain": [
       "[1, 1, 2, 3, 5, 8, 13, 21]"
      ]
     },
     "execution_count": 52,
     "metadata": {},
     "output_type": "execute_result"
    }
   ],
   "source": [
    "fibonacci()"
   ]
  },
  {
   "cell_type": "code",
   "execution_count": null,
   "metadata": {},
   "outputs": [],
   "source": []
  }
 ],
 "metadata": {
  "kernelspec": {
   "display_name": "Python 3",
   "language": "python",
   "name": "python3"
  },
  "language_info": {
   "codemirror_mode": {
    "name": "ipython",
    "version": 3
   },
   "file_extension": ".py",
   "mimetype": "text/x-python",
   "name": "python",
   "nbconvert_exporter": "python",
   "pygments_lexer": "ipython3",
   "version": "3.7.1"
  }
 },
 "nbformat": 4,
 "nbformat_minor": 2
}
