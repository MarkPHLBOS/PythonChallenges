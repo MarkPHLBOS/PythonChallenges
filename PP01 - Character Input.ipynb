{
 "cells": [
  {
   "cell_type": "code",
   "execution_count": 1,
   "metadata": {},
   "outputs": [],
   "source": [
    "# Practicing Python 01: Character Input"
   ]
  },
  {
   "cell_type": "code",
   "execution_count": 15,
   "metadata": {},
   "outputs": [],
   "source": [
    "# Create a program that asks the user to enter their name and their age. \n",
    "# Print out a message addressed to them that tells them the year that they will turn 100 years old."
   ]
  },
  {
   "cell_type": "code",
   "execution_count": 13,
   "metadata": {},
   "outputs": [],
   "source": [
    "from datetime import date"
   ]
  },
  {
   "cell_type": "code",
   "execution_count": 30,
   "metadata": {},
   "outputs": [
    {
     "name": "stdout",
     "output_type": "stream",
     "text": [
      "Enter your name: Mark\n",
      "Enter your age: 39\n",
      "\n",
      "Mark you will turn 100 in 2081\n"
     ]
    }
   ],
   "source": [
    "msg_namerequest = \"Enter your name: \"\n",
    "msg_agerequest = \"Enter your age: \"\n",
    "year_today = date.today()\n",
    "\n",
    "user_name = input(msg_namerequest)\n",
    "user_age = int(input(msg_agerequest))\n",
    "\n",
    "birthday_hundred = str(year_today.year + 100 - user_age)\n",
    "\n",
    "print(\"\\n\" + user_name + \" you will turn 100 in \" + birthday_hundred)"
   ]
  },
  {
   "cell_type": "code",
   "execution_count": 16,
   "metadata": {},
   "outputs": [],
   "source": [
    "# Extras:\n",
    "# - Add on to the previous program by asking the user for another number and printing out that many copies\n",
    "#   of the previous message. (Hint: order of operations exists in Python)\n",
    "# - Print out that many copies of the previous message on separate lines. (Hint: the string \"\\n is the same\n",
    "#   as pressing the ENTER button)"
   ]
  },
  {
   "cell_type": "code",
   "execution_count": 34,
   "metadata": {},
   "outputs": [
    {
     "name": "stdout",
     "output_type": "stream",
     "text": [
      "I'm a parrot. How many times should I repeat: 3\n",
      "\n",
      "\n",
      "How many times should I repeat: \n",
      "How many times should I repeat: \n",
      "How many times should I repeat: \n",
      "\n"
     ]
    }
   ],
   "source": [
    "msg_copier = \"How many times should I repeat: \"\n",
    "number_copies = int(input(\"I'm a parrot. \" + msg_copier))\n",
    "\n",
    "print(\"\\n\")\n",
    "\n",
    "print(number_copies * (msg_copier + \"\\n\"))"
   ]
  },
  {
   "cell_type": "code",
   "execution_count": null,
   "metadata": {},
   "outputs": [],
   "source": []
  }
 ],
 "metadata": {
  "kernelspec": {
   "display_name": "Python 3",
   "language": "python",
   "name": "python3"
  },
  "language_info": {
   "codemirror_mode": {
    "name": "ipython",
    "version": 3
   },
   "file_extension": ".py",
   "mimetype": "text/x-python",
   "name": "python",
   "nbconvert_exporter": "python",
   "pygments_lexer": "ipython3",
   "version": "3.7.1"
  }
 },
 "nbformat": 4,
 "nbformat_minor": 2
}
