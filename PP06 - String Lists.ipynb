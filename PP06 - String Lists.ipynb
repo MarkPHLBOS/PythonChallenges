{
 "cells": [
  {
   "cell_type": "code",
   "execution_count": 1,
   "metadata": {},
   "outputs": [],
   "source": [
    "# Practice Python 6 - String Lists\n",
    "\n",
    "# Ask the user for a string and print out whether this string\n",
    "# is a palindrome or not. (A palindrome is a string that reads\n",
    "# the same forwards and backwards.)"
   ]
  },
  {
   "cell_type": "code",
   "execution_count": 33,
   "metadata": {},
   "outputs": [
    {
     "name": "stdout",
     "output_type": "stream",
     "text": [
      "Please give me a string: Racecar\n",
      "\n",
      "\"Racecar\" is a pallindrome. Hooray!\n"
     ]
    }
   ],
   "source": [
    "userstring = input(\"Please give me a string: \")\n",
    "reversedstring = userstring[::-1]\n",
    "\n",
    "if userstring.lower() == reversedstring.lower():\n",
    "    print(\"\\n\\\"\" + userstring + \"\\\" is a pallindrome. Hooray!\")\n",
    "else:\n",
    "    print(\"\\n\\\"\" + userstring + \"\\\" is not a pallindrome. Wah wah.\")"
   ]
  },
  {
   "cell_type": "code",
   "execution_count": null,
   "metadata": {},
   "outputs": [],
   "source": []
  }
 ],
 "metadata": {
  "kernelspec": {
   "display_name": "Python 3",
   "language": "python",
   "name": "python3"
  },
  "language_info": {
   "codemirror_mode": {
    "name": "ipython",
    "version": 3
   },
   "file_extension": ".py",
   "mimetype": "text/x-python",
   "name": "python",
   "nbconvert_exporter": "python",
   "pygments_lexer": "ipython3",
   "version": "3.7.1"
  }
 },
 "nbformat": 4,
 "nbformat_minor": 2
}
