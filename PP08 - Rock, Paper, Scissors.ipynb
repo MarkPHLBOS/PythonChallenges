{
 "cells": [
  {
   "cell_type": "code",
   "execution_count": 1,
   "metadata": {},
   "outputs": [],
   "source": [
    "# Practice Python Challenge 8 - Rock, Paper, Scissors\n",
    "\n",
    "# Make a two-player Rock-Paper-Scissors game. (Hint: Ask for player plays (using input), \n",
    "# compare them, print out a message of congratulations to the winner, and ask if the players want to start a new game)\n",
    "\n",
    "#Game rules:\n",
    "# - Rock beats scissors\n",
    "# - Scissors beats paper\n",
    "# - Paper beats rock"
   ]
  },
  {
   "cell_type": "code",
   "execution_count": 2,
   "metadata": {},
   "outputs": [
    {
     "name": "stdout",
     "output_type": "stream",
     "text": [
      "Let's play \"Rock, Paper, Scissors\"!\n",
      "Note: Please type \"rock\", \"paper\", or \"scissors\"\n",
      "\n",
      "Player 1: rock\n",
      "Player 2: paper\n",
      "Player 2 wins!\n",
      "\n",
      "Want to play again?(yes\\no):no\n"
     ]
    }
   ],
   "source": [
    "welcome_message = \"Let's play \\\"Rock, Paper, Scissors\\\"!\"\n",
    "rules_message = \"Note: Please type \\\"rock\\\", \\\"paper\\\", or \\\"scissors\\\"\\n\"\n",
    "play = 1\n",
    "\n",
    "while play:\n",
    "    print(welcome_message)\n",
    "    print(rules_message)\n",
    "\n",
    "    selection_player1 = input(\"Player 1: \")\n",
    "    selection_player2 = input(\"Player 2: \")\n",
    "    \n",
    "    if (selection_player1.lower() == \"rock\") & (selection_player2.lower() == \"paper\"):\n",
    "        print(\"Player 2 wins!\\n\")\n",
    "    elif (selection_player1.lower() == \"rock\") & (selection_player2.lower() == \"scissors\"):\n",
    "        print(\"Player 1 wins!\\n\")\n",
    "    elif (selection_player1.lower() == \"paper\") & (selection_player2.lower() == \"scissors\"):\n",
    "        print(\"Player 2 wins!\\n\")\n",
    "    elif (selection_player1.lower() == \"paper\") & (selection_player2.lower() == \"rock\"):\n",
    "        print(\"Player 1 wins!\\n\")\n",
    "    elif (selection_player1.lower() == \"scissors\") & (selection_player2.lower() == \"paper\"):\n",
    "        print(\"Player 1 wins!\\n\")\n",
    "    elif (selection_player1.lower() == \"scissors\") & (selection_player2.lower() == \"rock\"):\n",
    "        print(\"Player 2 wins!\\n\")\n",
    "    else:\n",
    "        print(\"It's a draw.\")\n",
    "        \n",
    "    playagain = input(\"Want to play again?(yes\\\\no):\")\n",
    "    if playagain.lower() == \"no\":\n",
    "        play = 0"
   ]
  },
  {
   "cell_type": "code",
   "execution_count": null,
   "metadata": {},
   "outputs": [],
   "source": []
  }
 ],
 "metadata": {
  "kernelspec": {
   "display_name": "Python 3",
   "language": "python",
   "name": "python3"
  },
  "language_info": {
   "codemirror_mode": {
    "name": "ipython",
    "version": 3
   },
   "file_extension": ".py",
   "mimetype": "text/x-python",
   "name": "python",
   "nbconvert_exporter": "python",
   "pygments_lexer": "ipython3",
   "version": "3.7.1"
  }
 },
 "nbformat": 4,
 "nbformat_minor": 2
}
