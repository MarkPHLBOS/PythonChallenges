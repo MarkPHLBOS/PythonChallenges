{
 "cells": [
  {
   "cell_type": "code",
   "execution_count": 1,
   "metadata": {},
   "outputs": [],
   "source": [
    "# Practicing Python 02: Odd or Even"
   ]
  },
  {
   "cell_type": "code",
   "execution_count": 15,
   "metadata": {},
   "outputs": [],
   "source": [
    "# Ask the user for a number. Depending on whether the number is even or odd,\n",
    "# print out an appropriate message to the user. \n",
    "\n",
    "# Hint: how does an even / odd number react differently when divided by 2?\n",
    "\n",
    "# Extras:\n",
    "# If the number is a multiple of 4, print out a different message.\n",
    "# Ask the user for two numbers: one number to check (call it num) and one number\n",
    "# to divide by (check). If check divides evenly into num, tell that to the user.\n",
    "# If not, print a different appropriate message."
   ]
  },
  {
   "cell_type": "code",
   "execution_count": 16,
   "metadata": {},
   "outputs": [
    {
     "name": "stdout",
     "output_type": "stream",
     "text": [
      "Please give me an integer: 25\n",
      "Your number is odd.\n"
     ]
    }
   ],
   "source": [
    "# PART ONE\n",
    "# Ask the user for a number. Depending on whether the number is even or odd,\n",
    "# print out an appropriate message to the user.\n",
    "\n",
    "msg_numberrequest = \"Please give me an integer: \"\n",
    "\n",
    "msg_numberresponse = int(input(msg_numberrequest))\n",
    "\n",
    "if (msg_numberresponse % 2) == 0:\n",
    "    print('Your number is even.')\n",
    "else:\n",
    "    print('Your number is odd.')"
   ]
  },
  {
   "cell_type": "code",
   "execution_count": 20,
   "metadata": {},
   "outputs": [
    {
     "name": "stdout",
     "output_type": "stream",
     "text": [
      "Please give me an integer: 3\n",
      "Your number is odd.\n"
     ]
    }
   ],
   "source": [
    "# EXTRA ONE\n",
    "# If the number is a multiple of 4, print out a different message.\n",
    "\n",
    "msg_numberrequest = \"Please give me an integer: \"\n",
    "\n",
    "msg_numberresponse = int(input(msg_numberrequest))\n",
    "\n",
    "if (msg_numberresponse % 2) == 0:\n",
    "    if (msg_numberresponse % 4) == 0:\n",
    "        print('Your number is even and divisble by four.')\n",
    "    else:\n",
    "        print('Your number is even.')\n",
    "else:\n",
    "    print('Your number is odd.')"
   ]
  },
  {
   "cell_type": "code",
   "execution_count": 25,
   "metadata": {},
   "outputs": [
    {
     "name": "stdout",
     "output_type": "stream",
     "text": [
      "Please give me your first integer: 64\n",
      "Please give me your second integer: 4\n",
      "64 is evenly divisble by 4.\n"
     ]
    }
   ],
   "source": [
    "# EXTRA TWO\n",
    "# Ask the user for two numbers: one number to check (call it num) and one number\n",
    "# to divide by (check). If check divides evenly into num, tell that to the user.\n",
    "# If not, print a different appropriate message.\n",
    "\n",
    "msg_numrequest = \"Please give me your first integer: \"\n",
    "msg_checkrequest = \"Please give me your second integer: \"\n",
    "\n",
    "num = int(input(msg_numrequest))\n",
    "check = int(input(msg_checkrequest))\n",
    "\n",
    "if (num % check) == 0:\n",
    "    print(str(num) + ' is evenly divisble by ' + str(check) + '.')\n",
    "else:\n",
    "    print(str(num) + ' is NOT evenly divisble by ' + str(check) + '.')"
   ]
  },
  {
   "cell_type": "code",
   "execution_count": null,
   "metadata": {},
   "outputs": [],
   "source": []
  }
 ],
 "metadata": {
  "kernelspec": {
   "display_name": "Python 3",
   "language": "python",
   "name": "python3"
  },
  "language_info": {
   "codemirror_mode": {
    "name": "ipython",
    "version": 3
   },
   "file_extension": ".py",
   "mimetype": "text/x-python",
   "name": "python",
   "nbconvert_exporter": "python",
   "pygments_lexer": "ipython3",
   "version": "3.7.1"
  }
 },
 "nbformat": 4,
 "nbformat_minor": 2
}
