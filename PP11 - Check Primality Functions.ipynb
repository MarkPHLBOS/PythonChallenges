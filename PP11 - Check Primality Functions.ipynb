{
 "cells": [
  {
   "cell_type": "code",
   "execution_count": 1,
   "metadata": {},
   "outputs": [],
   "source": [
    "# Practice Python 11 - Check Primality Functions"
   ]
  },
  {
   "cell_type": "code",
   "execution_count": null,
   "metadata": {},
   "outputs": [],
   "source": [
    "# By creating a new function, Ask the user for a number\n",
    "# and determine whether the number is prime or not.\n",
    "# (For those who have forgotten, a prime number is a number\n",
    "# that has no divisors.)."
   ]
  },
  {
   "cell_type": "code",
   "execution_count": 35,
   "metadata": {},
   "outputs": [],
   "source": [
    "# Create a new function for checking primality\n",
    "def check_ifprime(user_number):\n",
    "    \"\"\"\n",
    "    Practicing help text\n",
    "    \"\"\"\n",
    "\n",
    "    i = 2\n",
    "    divisors = []\n",
    "\n",
    "    while i < user_number:\n",
    "        if (user_number % i) == 0:\n",
    "            divisors.append(i)\n",
    "        i = i + 1\n",
    "\n",
    "    if not divisors:\n",
    "        print(\"\\n\" + str(user_number) + \" is prime! It is divisible only by \" + str(user_number) + \" and 1.\")\n",
    "    else:\n",
    "        print(\"\\n\" + str(user_number) + \" is not prime. It is divisible by:\")\n",
    "        print(divisors)\n",
    "    \n",
    "    return "
   ]
  },
  {
   "cell_type": "code",
   "execution_count": 36,
   "metadata": {},
   "outputs": [
    {
     "name": "stdout",
     "output_type": "stream",
     "text": [
      "Give me a number and I'll tell you if it is a prime: 64\n",
      "\n",
      "64 is not prime. It is divisible by:\n",
      "[2, 4, 8, 16, 32]\n"
     ]
    }
   ],
   "source": [
    "# Test the new function\n",
    "prime_candidate = int(input(\"Give me a number and I'll tell you if it is a prime: \"))\n",
    "\n",
    "check_ifprime(prime_candidate)"
   ]
  },
  {
   "cell_type": "code",
   "execution_count": 37,
   "metadata": {},
   "outputs": [
    {
     "name": "stdout",
     "output_type": "stream",
     "text": [
      "Help on function check_ifprime in module __main__:\n",
      "\n",
      "check_ifprime(user_number)\n",
      "    Practicing help text\n",
      "\n"
     ]
    }
   ],
   "source": [
    "help(check_ifprime)"
   ]
  },
  {
   "cell_type": "code",
   "execution_count": null,
   "metadata": {},
   "outputs": [],
   "source": []
  }
 ],
 "metadata": {
  "kernelspec": {
   "display_name": "Python 3",
   "language": "python",
   "name": "python3"
  },
  "language_info": {
   "codemirror_mode": {
    "name": "ipython",
    "version": 3
   },
   "file_extension": ".py",
   "mimetype": "text/x-python",
   "name": "python",
   "nbconvert_exporter": "python",
   "pygments_lexer": "ipython3",
   "version": "3.7.1"
  }
 },
 "nbformat": 4,
 "nbformat_minor": 2
}
