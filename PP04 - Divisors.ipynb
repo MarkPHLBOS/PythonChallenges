{
 "cells": [
  {
   "cell_type": "code",
   "execution_count": 1,
   "metadata": {},
   "outputs": [],
   "source": [
    "# Practice Python Challenge 4 - Divisors"
   ]
  },
  {
   "cell_type": "code",
   "execution_count": 10,
   "metadata": {},
   "outputs": [
    {
     "name": "stdout",
     "output_type": "stream",
     "text": [
      "Please give me a number: 24\n",
      "24.0 has the following divisors:\n",
      "[1, 2, 3, 4, 6, 8, 12, 24]\n"
     ]
    }
   ],
   "source": [
    "# Main Assignment\n",
    "\n",
    "# Create a program that asks the user for a number and then prints out\n",
    "# a list of all the divisors of that number. (If you don’t know what a\n",
    "# divisor is, it is a number that divides evenly into another number.\n",
    "# For example, 13 is a divisor of 26 because 26 / 13 has no remainder.)\n",
    "\n",
    "msg_numberrequest = \"Please give me a number: \"\n",
    "\n",
    "msg_numberresponse = float(input(msg_numberrequest))\n",
    "\n",
    "i = 1\n",
    "divisors = []\n",
    "\n",
    "while i < (msg_numberresponse + 1):\n",
    "    if (msg_numberresponse % i) == 0:\n",
    "        divisors.append(i)\n",
    "    i = i + 1\n",
    "\n",
    "if not divisors:\n",
    "    print(str(msg_numberresponse) + \" has no divisors.\")\n",
    "else:\n",
    "    print(str(msg_numberresponse) + \" has the following divisors:\")\n",
    "    print(divisors)"
   ]
  }
 ],
 "metadata": {
  "kernelspec": {
   "display_name": "Python 3",
   "language": "python",
   "name": "python3"
  },
  "language_info": {
   "codemirror_mode": {
    "name": "ipython",
    "version": 3
   },
   "file_extension": ".py",
   "mimetype": "text/x-python",
   "name": "python",
   "nbconvert_exporter": "python",
   "pygments_lexer": "ipython3",
   "version": "3.7.1"
  }
 },
 "nbformat": 4,
 "nbformat_minor": 2
}
