{
 "cells": [
  {
   "cell_type": "code",
   "execution_count": null,
   "metadata": {},
   "outputs": [],
   "source": [
    "# Practice Python 9\n",
    "\n",
    "# Generate a random number between 1 and 9 (including 1 and 9). \n",
    "# Ask the user to guess the number, then tell them whether they guessed too low, \n",
    "# too high, or exactly right. \n",
    "\n",
    "#Extras:\n",
    "# Keep the game going until the user types “exit”\n",
    "# Keep track of how many guesses the user has taken, and when the game ends, print this out."
   ]
  },
  {
   "cell_type": "code",
   "execution_count": 1,
   "metadata": {},
   "outputs": [],
   "source": [
    "from random import randint"
   ]
  },
  {
   "cell_type": "code",
   "execution_count": 9,
   "metadata": {},
   "outputs": [],
   "source": [
    "# The guessing game function\n",
    "\n",
    "def guesser(listlower=1,listupper=9,seedvalue=False):\n",
    "    guesscounter = 0\n",
    "    \n",
    "    # Seed the random number generator\n",
    "    if seedvalue:\n",
    "        from random import seed\n",
    "        seed(seedvalue) \n",
    "    \n",
    "    # Print welcome message and rules\n",
    "    print(\"Let's play a guessing game!\")\n",
    "    print(\"I'm thinking of a number between 1-9 (inclusive).\")\n",
    "    print(\"Keep guessing till you get it right or type \\'exit\\' to quit.\")\n",
    "    \n",
    "    # Main game loop\n",
    "    # Set the target number for guessing\n",
    "    target = randint(listlower,listupper)\n",
    "    print(\"Target is: \" + str(target))\n",
    "    \n",
    "    playerinput = input(\"Make a guess or type \\'exit\\': \")\n",
    "    \n",
    "    while playerinput.lower() != \"exit\":\n",
    "        playerinput = float(playerinput)\n",
    "    \n",
    "        if playerinput == target:\n",
    "            guesscounter = guesscounter +1\n",
    "            gameresult = \"You got it right after \" + str(guesscounter) + \" guesses!\"\n",
    "            return gameresult\n",
    "        elif playerinput < target:\n",
    "            guesscounter = guesscounter +1\n",
    "            print(\"Nope, that's too low.\")\n",
    "            playerinput = input(\"Make a guess or type \\'exit\\': \")\n",
    "        else:\n",
    "            guesscounter = guesscounter +1\n",
    "            print(\"Nope, that's too high.\")\n",
    "            playerinput = input(\"Make a guess or type \\'exit\\': \")"
   ]
  },
  {
   "cell_type": "code",
   "execution_count": 14,
   "metadata": {},
   "outputs": [
    {
     "name": "stdout",
     "output_type": "stream",
     "text": [
      "Let's play a guessing game!\n",
      "I'm thinking of a number between 1-9 (inclusive).\n",
      "Keep guessing till you get it right or type 'exit' to quit.\n",
      "Target is: 3\n",
      "Make a guess or type 'exit': 3\n"
     ]
    },
    {
     "data": {
      "text/plain": [
       "'You got it right after 1 guesses!'"
      ]
     },
     "execution_count": 14,
     "metadata": {},
     "output_type": "execute_result"
    }
   ],
   "source": [
    "# Start the game\n",
    "guesser(seedvalue=1)"
   ]
  },
  {
   "cell_type": "code",
   "execution_count": null,
   "metadata": {},
   "outputs": [],
   "source": []
  }
 ],
 "metadata": {
  "kernelspec": {
   "display_name": "Python 3",
   "language": "python",
   "name": "python3"
  },
  "language_info": {
   "codemirror_mode": {
    "name": "ipython",
    "version": 3
   },
   "file_extension": ".py",
   "mimetype": "text/x-python",
   "name": "python",
   "nbconvert_exporter": "python",
   "pygments_lexer": "ipython3",
   "version": "3.7.1"
  }
 },
 "nbformat": 4,
 "nbformat_minor": 2
}
