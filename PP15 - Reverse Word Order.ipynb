{
 "cells": [
  {
   "cell_type": "code",
   "execution_count": 1,
   "metadata": {},
   "outputs": [],
   "source": [
    "# Practice Python 15 - Reverse Word Order\n",
    "\n",
    "# Write a program (using functions!) that asks the user for\n",
    "# a long string containing multiple words. Print back to the user\n",
    "# the same string, except with the words in backwards order.\n",
    "\n",
    "# For example, say I type the string:\n",
    "# \"My name is Michele\n",
    "\n",
    "#Then I would see the string:\n",
    "# \"Michele is name My\" shown back to me."
   ]
  },
  {
   "cell_type": "code",
   "execution_count": 93,
   "metadata": {},
   "outputs": [],
   "source": [
    "def stringreverseslim(inputstring):\n",
    "    return ' '.join(inputstring.split()[::-1])"
   ]
  },
  {
   "cell_type": "code",
   "execution_count": 87,
   "metadata": {},
   "outputs": [],
   "source": [
    "def stringreverse(inputstring):\n",
    "    inputstringsplit = inputstring.split()\n",
    "    templist = []\n",
    "    \n",
    "    for word in inputstringsplit:\n",
    "        templist.insert(0,word)\n",
    "        \n",
    "    return \" \".join(templist)"
   ]
  },
  {
   "cell_type": "code",
   "execution_count": 89,
   "metadata": {},
   "outputs": [],
   "source": [
    "teststring = \"My name is Mark\""
   ]
  },
  {
   "cell_type": "code",
   "execution_count": 91,
   "metadata": {},
   "outputs": [
    {
     "data": {
      "text/plain": [
       "'Mark is name My'"
      ]
     },
     "execution_count": 91,
     "metadata": {},
     "output_type": "execute_result"
    }
   ],
   "source": [
    "stringreverse(teststring)"
   ]
  },
  {
   "cell_type": "code",
   "execution_count": 94,
   "metadata": {},
   "outputs": [
    {
     "data": {
      "text/plain": [
       "'Mark is name My'"
      ]
     },
     "execution_count": 94,
     "metadata": {},
     "output_type": "execute_result"
    }
   ],
   "source": [
    "stringreverseslim(teststring)"
   ]
  },
  {
   "cell_type": "code",
   "execution_count": null,
   "metadata": {},
   "outputs": [],
   "source": []
  }
 ],
 "metadata": {
  "kernelspec": {
   "display_name": "Python 3",
   "language": "python",
   "name": "python3"
  },
  "language_info": {
   "codemirror_mode": {
    "name": "ipython",
    "version": 3
   },
   "file_extension": ".py",
   "mimetype": "text/x-python",
   "name": "python",
   "nbconvert_exporter": "python",
   "pygments_lexer": "ipython3",
   "version": "3.7.1"
  }
 },
 "nbformat": 4,
 "nbformat_minor": 2
}
