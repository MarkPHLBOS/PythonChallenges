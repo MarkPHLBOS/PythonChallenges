{
 "cells": [
  {
   "cell_type": "code",
   "execution_count": 1,
   "metadata": {},
   "outputs": [],
   "source": [
    "# Practice Python 16 - Password Generator\n",
    "\n",
    "# Write a password generator in Python. Be creative with how you generate passwords.\n",
    "# Strong passwords have a mix of lowercase letters, uppercase letters, numbers, and symbols.\n",
    "# The passwords should be random, generating a new password every time the user asks\n",
    "# for a new password. Include your run-time code in a main method.\n",
    "\n",
    "# Extra:\n",
    "# Ask the user how strong they want their password to be. For weak passwords, pick a word or two from a list."
   ]
  },
  {
   "cell_type": "code",
   "execution_count": 110,
   "metadata": {},
   "outputs": [],
   "source": [
    "import random"
   ]
  },
  {
   "cell_type": "code",
   "execution_count": 118,
   "metadata": {},
   "outputs": [],
   "source": [
    "def genpassword(passstrength=\"strong\", passlength=5,seedvalue=False):\n",
    "    lowerletters = [\"a\", \"b\", \"c\", \"d\", \"e\", \"f\", \"g\", \"h\", \"i\", \"j\", \"k\", \"l\", \"m\",\n",
    "                    \"n\", \"o\", \"p\", \"q\", \"r\", \"s\", \"t\", \"u\", \"v\", \"w\", \"x\", \"y\", \"z\"]\n",
    "    upperletters = [letter.upper() for letter in letters]\n",
    "    symbols = [\"!\", \"@\", \"#\", \"$\", \"%\", \"_\"]\n",
    "    password = \"\"\n",
    "    weakwords = [\"12345\", \"abcdef\", \"mypassword\"]\n",
    "    \n",
    "    # Seed the random number generator\n",
    "    if seedvalue:\n",
    "        from random import seed\n",
    "        seed(seedvalue)\n",
    "    \n",
    "    if passstrength.lower() == \"strong\":\n",
    "        i = 0\n",
    "        switch = 0\n",
    "        while i < passlength:\n",
    "            switch = randint(0,3)\n",
    "            if switch == 0:\n",
    "                password = password + lowerletters[randint(0,25)]\n",
    "            elif switch == 1:\n",
    "                password = password + upperletters[randint(0,25)]\n",
    "            elif switch == 2:\n",
    "                password = password + symbols[randint(0,5)]\n",
    "            else:\n",
    "                password = password + str(randint(0,9))\n",
    "            i+=1\n",
    "    else:\n",
    "        password = random.choice(weakwords)\n",
    "        \n",
    "    return password \n",
    "\n",
    "# Mark you could make this better with a check of the password actual strength.\n",
    "# current code sometimes generates \"strong\" passwords that lack a category of character"
   ]
  },
  {
   "cell_type": "code",
   "execution_count": 119,
   "metadata": {},
   "outputs": [
    {
     "data": {
      "text/plain": [
       "'03UGA'"
      ]
     },
     "execution_count": 119,
     "metadata": {},
     "output_type": "execute_result"
    }
   ],
   "source": [
    "genpassword(passstrength=\"strong\", passlength=5)"
   ]
  },
  {
   "cell_type": "code",
   "execution_count": null,
   "metadata": {},
   "outputs": [],
   "source": []
  }
 ],
 "metadata": {
  "kernelspec": {
   "display_name": "Python 3",
   "language": "python",
   "name": "python3"
  },
  "language_info": {
   "codemirror_mode": {
    "name": "ipython",
    "version": 3
   },
   "file_extension": ".py",
   "mimetype": "text/x-python",
   "name": "python",
   "nbconvert_exporter": "python",
   "pygments_lexer": "ipython3",
   "version": "3.7.1"
  }
 },
 "nbformat": 4,
 "nbformat_minor": 2
}
