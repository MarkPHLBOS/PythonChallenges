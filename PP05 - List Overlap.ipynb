{
 "cells": [
  {
   "cell_type": "code",
   "execution_count": null,
   "metadata": {},
   "outputs": [],
   "source": [
    "# Practice Python 5 - List Overlap\n",
    "\n",
    "# Primary assignment\n",
    "# Take two lists and write a program that returns a list\n",
    "# that contains only the elements that are common between\n",
    "# the lists (without duplicates). Make sure your program\n",
    "# works on two lists of different sizes."
   ]
  },
  {
   "cell_type": "code",
   "execution_count": 30,
   "metadata": {},
   "outputs": [],
   "source": [
    "def list_compare(userlist1, userlist2):\n",
    "    common_elements = []\n",
    "    for list1_element in userlist1:\n",
    "        if (list1_element in userlist2) and not(list1_element in common_elements):\n",
    "                common_elements.append(list1_element)\n",
    "    return common_elements"
   ]
  },
  {
   "cell_type": "code",
   "execution_count": 31,
   "metadata": {},
   "outputs": [
    {
     "data": {
      "text/plain": [
       "[1, 2, 3, 5, 8, 13]"
      ]
     },
     "execution_count": 31,
     "metadata": {},
     "output_type": "execute_result"
    }
   ],
   "source": [
    "a = [1, 1, 2, 3, 5, 8, 13, 21, 34, 55, 89]\n",
    "b = [1, 2, 3, 4, 5, 6, 7, 8, 9, 10, 11, 12, 13]\n",
    "\n",
    "list_compare(a,b)"
   ]
  },
  {
   "cell_type": "code",
   "execution_count": 53,
   "metadata": {},
   "outputs": [],
   "source": [
    "# Extra assignment\n",
    "\n",
    "# Randomly generate two lists to test list comparison function\n",
    "\n",
    "#from random import seed\n",
    "from random import randint\n",
    "\n",
    "def list_tester(listlength=5,listlower=0,listupper=10,seedvalue=False):\n",
    "    randlist1 = []\n",
    "    randlist2 = []\n",
    "    test_results = []\n",
    "    \n",
    "    if seedvalue:\n",
    "        from random import seed\n",
    "        seed(seedvalue) # seed random number generator\n",
    "    \n",
    "    # generate some integers\n",
    "    for i in range(listlength):\n",
    "        randlist1.append(randint(listlower, listupper))\n",
    "        randlist2.append(randint(listlower, listupper))\n",
    "    \n",
    "    test_results = list_compare(randlist1,randlist2)\n",
    "    \n",
    "    print(\"First random list:  \" + str(randlist1).strip(\"[]\"))\n",
    "    print(\"Second random list: \" + str(randlist2).strip(\"[]\"))\n",
    "    print(\"Test results:       \" + str(test_results).strip(\"[]\"))"
   ]
  },
  {
   "cell_type": "code",
   "execution_count": 66,
   "metadata": {},
   "outputs": [
    {
     "name": "stdout",
     "output_type": "stream",
     "text": [
      "First random list:  7, 17, 11, 15, 18\n",
      "Second random list: 18, 4, 19, 20, 2\n",
      "Test results:       18\n"
     ]
    }
   ],
   "source": [
    "list_tester(listlength=5,listlower=0,listupper=20, seedvalue=3)"
   ]
  },
  {
   "cell_type": "code",
   "execution_count": null,
   "metadata": {},
   "outputs": [],
   "source": []
  }
 ],
 "metadata": {
  "kernelspec": {
   "display_name": "Python 3",
   "language": "python",
   "name": "python3"
  },
  "language_info": {
   "codemirror_mode": {
    "name": "ipython",
    "version": 3
   },
   "file_extension": ".py",
   "mimetype": "text/x-python",
   "name": "python",
   "nbconvert_exporter": "python",
   "pygments_lexer": "ipython3",
   "version": "3.7.1"
  }
 },
 "nbformat": 4,
 "nbformat_minor": 2
}
